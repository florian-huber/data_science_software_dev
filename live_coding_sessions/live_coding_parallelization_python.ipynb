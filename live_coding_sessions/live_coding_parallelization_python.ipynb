{
 "cells": [
  {
   "cell_type": "markdown",
   "id": "767c877f",
   "metadata": {},
   "source": [
    "# Speed it up!"
   ]
  },
  {
   "cell_type": "code",
   "execution_count": 13,
   "id": "ba81dbef",
   "metadata": {},
   "outputs": [],
   "source": [
    "# !conda install dask\n",
    "# !pip install numba\n",
    "# !pip install memory_profiler\n",
    "# !pip install matplotlib\n",
    "# !pip install joblib"
   ]
  },
  {
   "cell_type": "code",
   "execution_count": 2,
   "id": "57ea45d0",
   "metadata": {},
   "outputs": [],
   "source": [
    "import math\n",
    "import random\n",
    "import numpy as np\n",
    "import numba  # for next week...\n",
    "import dask.array as da\n",
    "from joblib import Parallel, delayed\n",
    "from matplotlib import pyplot as plt"
   ]
  },
  {
   "cell_type": "markdown",
   "id": "b20ef7ad",
   "metadata": {},
   "source": [
    "## First simple test: sum of numbers\n",
    "\n",
    "Before we look at some more realistic and complex examples, let's start with something really simple. We just want to count all numbers from 0 to N.\n",
    "And since we want to see what works best (here: = fastest!), we will measure the computation time using `time` or `timeit`.\n",
    "\n",
    "### Pure Python Code"
   ]
  },
  {
   "cell_type": "code",
   "execution_count": 18,
   "id": "6c881c96",
   "metadata": {},
   "outputs": [
    {
     "name": "stdout",
     "output_type": "stream",
     "text": [
      "CPU times: total: 4.36 s\n",
      "Wall time: 8.32 s\n"
     ]
    }
   ],
   "source": [
    "%%time\n",
    "total = 0\n",
    "for i in range(int(1e8)):\n",
    "    total += i"
   ]
  },
  {
   "cell_type": "code",
   "execution_count": 8,
   "id": "9649d5b2",
   "metadata": {},
   "outputs": [
    {
     "name": "stdout",
     "output_type": "stream",
     "text": [
      "CPU times: total: 8.2 s\n",
      "Wall time: 11.3 s\n"
     ]
    }
   ],
   "source": [
    "# other example: best of 1,000,000 random numbers\n",
    "%%time\n",
    "best_of_a_million = []\n",
    "for i in range(100):\n",
    "    best = 0\n",
    "    for k in range(1000000):\n",
    "        number = random.random()\n",
    "        if number > best:  # update\n",
    "            best = number\n",
    "    best_of_a_million.append(best)"
   ]
  },
  {
   "cell_type": "code",
   "execution_count": 10,
   "id": "9c66d4ec",
   "metadata": {},
   "outputs": [],
   "source": []
  },
  {
   "cell_type": "code",
   "execution_count": null,
   "id": "1bc201ae",
   "metadata": {},
   "outputs": [],
   "source": []
  },
  {
   "cell_type": "markdown",
   "id": "8a698121",
   "metadata": {},
   "source": [
    "### Best quess option: Numpy\n",
    "Whenever we do something numerical in Python and we are concerned about run times, `Numpy` is usually a no-brainer for a first option to check. Compared to \"pure\" Python code numpy is much more efficient for handling numerical data, so in many cases it will be able to compute things much faster. Here as well:"
   ]
  },
  {
   "cell_type": "code",
   "execution_count": 16,
   "id": "0f83ff11",
   "metadata": {},
   "outputs": [
    {
     "name": "stdout",
     "output_type": "stream",
     "text": [
      "CPU times: total: 156 ms\n",
      "Wall time: 251 ms\n"
     ]
    }
   ],
   "source": [
    "%%time\n",
    "result = np.arange(1e8).sum()  # carefull 10**8 won't work here!"
   ]
  },
  {
   "cell_type": "code",
   "execution_count": 17,
   "id": "9e2e3ee8",
   "metadata": {},
   "outputs": [
    {
     "data": {
      "text/plain": [
       "(4999999950000000.0, 4999999950000000)"
      ]
     },
     "execution_count": 17,
     "metadata": {},
     "output_type": "execute_result"
    }
   ],
   "source": [
    "result, total"
   ]
  },
  {
   "cell_type": "code",
   "execution_count": 11,
   "id": "d241a9d0",
   "metadata": {},
   "outputs": [
    {
     "name": "stdout",
     "output_type": "stream",
     "text": [
      "CPU times: total: 469 ms\n",
      "Wall time: 689 ms\n"
     ]
    }
   ],
   "source": [
    "# other example: best of 1,000,000 random numbers\n",
    "%%time\n",
    "best_of_a_million = []\n",
    "for i in range(100):\n",
    "    best = np.max(np.random.random(1000000))\n",
    "    best_of_a_million.append(best)"
   ]
  },
  {
   "cell_type": "markdown",
   "id": "d0e81094",
   "metadata": {},
   "source": [
    "### Why is pure Python sooooo slow?\n",
    "Numpy here is many times faster than pure Python code. Why is that?\n",
    "We can distinguish two main reasons:\n",
    "\n",
    "#### 1. Interpreted vs compiled code\n",
    "It is actually examples like this that brings people to speak of Python as a *slow* programming language. \n",
    "And, in the present case, the main reason lies deep inside Python. Python code runs via an interpreter unlike in languages that run *compiled* code such as C, C++, Java, Rust, ...\n",
    "\n",
    "Apparently, code examples as the one we just tested it converted into machine code by the interpreter in a way that is very far from optimal.\n",
    "\n",
    "But what about Numpy, that's Python code as well, right?  \n",
    "Yes and no. While Numpy is of course a Python library, some of it's core pieces were written in other, compiled languages such that the main performance bottleneck make better use of our hardware. For us this is great because we can simply call those functions from our Python code without having to worry about the many complications on the *lower-level* (=closer to machine code).\n",
    "\n",
    "#### 2. Missing parallelization\n",
    "Another issue is, that code which is executed in a Python interpreter cannot use our full hardware capacities. Due to the *Global Interpreter Lock (GIL)* such a programm can only run onw *thread* at a time. This has two disadvantages. First, this also means that no more than one CPU core is used at a time (although our machine might have 4, 8, 12, 16, or more cores). And second, *threads* might simply be waiting for something external to happen such as receiving information from a server or website request, so that our program is essentially computing nothing during this time.\n",
    "\n",
    "\n",
    "#### 3. Dynamic Typing\n",
    "Python is known for being *dynamically typed* which means that we do not have to specify the data type of our variables. They can be an integer first and later be something else, a list, a dictionary, a float ... whatever we like.\n",
    "On the level of machine code, however, such a thing is not possible. Machine code is usually created for specific data types, for instance a 32-bit integer. As a consequence, the machine code that our Python interpreter produces is probably not well optimized for the data type that we finally use in our program. In addition, our program internally has to check the data type many times during execution. So, dynamic typing is clearly a larger factor for slowing down our Python programs.\n",
    "\n",
    "\n",
    "\n",
    "--> Check this by running the pure Python code again and watching your CPU usage (e.g., in the task manager)!"
   ]
  },
  {
   "cell_type": "markdown",
   "id": "4c6c6967",
   "metadata": {},
   "source": [
    "## Check your CPU usage...\n",
    "It is easiest to inspect you current CPU usage via the *task manager* (Windows) or *activity monitor* (MacOS).\n",
    "\n",
    "If we want to divide our computations into several processes (or *workers*, *jobs*) than we first need to know how many cores we have in our machine. "
   ]
  },
  {
   "cell_type": "code",
   "execution_count": 21,
   "id": "212ef3da",
   "metadata": {},
   "outputs": [
    {
     "data": {
      "text/plain": [
       "16"
      ]
     },
     "execution_count": 21,
     "metadata": {},
     "output_type": "execute_result"
    }
   ],
   "source": [
    "# option 1\n",
    "import os\n",
    "os.cpu_count()"
   ]
  },
  {
   "cell_type": "code",
   "execution_count": 19,
   "id": "87a2b17a",
   "metadata": {},
   "outputs": [
    {
     "data": {
      "text/plain": [
       "16"
      ]
     },
     "execution_count": 19,
     "metadata": {},
     "output_type": "execute_result"
    }
   ],
   "source": [
    "# option 2\n",
    "import joblib\n",
    "joblib.cpu_count()"
   ]
  },
  {
   "cell_type": "code",
   "execution_count": 20,
   "id": "afe8c99e",
   "metadata": {},
   "outputs": [
    {
     "name": "stdout",
     "output_type": "stream",
     "text": [
      "The number of physical/logical cores is 12/16\n"
     ]
    }
   ],
   "source": [
    "# option 3\n",
    "import psutil\n",
    "\n",
    "N_physical_cores = psutil.cpu_count(logical=False)\n",
    "N_logical_cores = psutil.cpu_count(logical=True)\n",
    "print(f\"The number of physical/logical cores is {N_physical_cores}/{N_logical_cores}\")"
   ]
  },
  {
   "cell_type": "markdown",
   "id": "b2ba7512",
   "metadata": {},
   "source": [
    "### Run multiple processes in parallel\n",
    "While a single Python interpreter can only run one process, there are several tools and libraries that allow us to start multiple processes in Python. One of them is **joblib**."
   ]
  },
  {
   "cell_type": "code",
   "execution_count": 10,
   "id": "4d865ffe",
   "metadata": {},
   "outputs": [
    {
     "name": "stdout",
     "output_type": "stream",
     "text": [
      "CPU times: total: 1.69 s\n",
      "Wall time: 13.1 s\n"
     ]
    }
   ],
   "source": [
    "%%time\n",
    "results = [math.factorial(x) for x in range(10000)]"
   ]
  },
  {
   "cell_type": "code",
   "execution_count": 17,
   "id": "9c1f14af",
   "metadata": {},
   "outputs": [
    {
     "name": "stdout",
     "output_type": "stream",
     "text": [
      "CPU times: total: 62.5 ms\n",
      "Wall time: 6.62 s\n"
     ]
    }
   ],
   "source": [
    "%%time\n",
    "results = Parallel(n_jobs=2)(delayed(math.factorial)(x) for x in range(10000))"
   ]
  },
  {
   "cell_type": "code",
   "execution_count": 18,
   "id": "40f37cff",
   "metadata": {},
   "outputs": [
    {
     "name": "stdout",
     "output_type": "stream",
     "text": [
      "CPU times: total: 594 ms\n",
      "Wall time: 2.57 s\n"
     ]
    }
   ],
   "source": [
    "%%time\n",
    "results = Parallel(n_jobs=-1)(delayed(math.factorial)(x) for x in range(10000))"
   ]
  },
  {
   "cell_type": "markdown",
   "id": "dd3abd5e",
   "metadata": {},
   "source": [
    "### Parallelization - possible or not?\n",
    "At first, it sounds really nice: Simply divide the work into *n* equal pieces and have *n* cores doing one piece at a time. So, our program will run *n* time faster!\n",
    "\n",
    "Unfortunately, it is nearly never that simple.\n",
    "\n",
    "First, we also have to see that it will cost computation time (=work) to split the computation steps and to later combine the result we get from the different processes.\n",
    "\n",
    "And second, not every task can easily be divided into smaller pieces.\n",
    "We had the example of cooking a pea soup. You can maybe speed up the cutting of vegetables step. But the peas need to cook 60 mintues and it makes no sense to divide this step over several workers/cooks.\n",
    "\n",
    "Processes that conceptionally are trivial to run in parallel are called *embarassingly parallel*."
   ]
  },
  {
   "cell_type": "code",
   "execution_count": 3,
   "id": "8df5416b",
   "metadata": {},
   "outputs": [],
   "source": [
    "from joblib import Parallel, delayed\n",
    "\n",
    "# Function to sum a range of numbers\n",
    "def sum_range(start, end):\n",
    "    total = 0\n",
    "    for i in range(start, end):\n",
    "        total += i\n",
    "    return total"
   ]
  },
  {
   "cell_type": "code",
   "execution_count": 1,
   "id": "6356f3c2",
   "metadata": {},
   "outputs": [],
   "source": [
    "def total_sum_parallel(total_range, num_cores = 4):\n",
    "    \"\"\"Simple function to divide the counting over num_cores.\"\"\"\n",
    "\n",
    "    # Calculate the size of each split\n",
    "    split_size = total_range // num_cores\n",
    "\n",
    "    # Create the sub-ranges\n",
    "    ranges = [(i, min(i + split_size, total_range)) for i in range(0, total_range, split_size)]\n",
    "\n",
    "    # Parallel computation\n",
    "    results = Parallel(n_jobs=num_cores)(delayed(sum_range)(start, end) for start, end in ranges)\n",
    "\n",
    "    return sum(results)"
   ]
  },
  {
   "cell_type": "code",
   "execution_count": 11,
   "id": "a2811bc5",
   "metadata": {},
   "outputs": [
    {
     "name": "stdout",
     "output_type": "stream",
     "text": [
      "CPU times: total: 46.9 ms\n",
      "Wall time: 15.4 s\n"
     ]
    },
    {
     "data": {
      "text/plain": [
       "499999999500000000"
      ]
     },
     "execution_count": 11,
     "metadata": {},
     "output_type": "execute_result"
    }
   ],
   "source": [
    "%%time\n",
    "total_sum_parallel(10**9, num_cores=16)"
   ]
  },
  {
   "cell_type": "code",
   "execution_count": 14,
   "id": "5c9e6d8c",
   "metadata": {},
   "outputs": [
    {
     "name": "stdout",
     "output_type": "stream",
     "text": [
      "CPU times: total: 2.14 s\n",
      "Wall time: 4.63 s\n"
     ]
    }
   ],
   "source": [
    "%%time\n",
    "result = np.arange(1e9).sum()  # start with 1e7"
   ]
  },
  {
   "cell_type": "markdown",
   "id": "11fa953c",
   "metadata": {},
   "source": [
    "## Dask\n",
    "Dask is probably the most powerful Python library for parallel computations.\n",
    "What makes `Dask` particularly nice is that it provides data types that resemble `numpy` datatypes (such as arrays) or `pandas` datatypes (Dataframes). This makes dask code look very familiar.\n",
    "\n",
    "See also [Dask website](https://www.dask.org/)."
   ]
  },
  {
   "cell_type": "code",
   "execution_count": 12,
   "id": "9b5abc4b",
   "metadata": {},
   "outputs": [
    {
     "name": "stdout",
     "output_type": "stream",
     "text": [
      "CPU times: total: 10.7 s\n",
      "Wall time: 2.31 s\n"
     ]
    }
   ],
   "source": [
    "%%time\n",
    "work = da.arange(1e9).sum()\n",
    "result = work.compute()"
   ]
  },
  {
   "cell_type": "code",
   "execution_count": 15,
   "id": "a9ff87c5",
   "metadata": {},
   "outputs": [
    {
     "data": {
      "text/plain": [
       "4.999999995e+17"
      ]
     },
     "execution_count": 15,
     "metadata": {},
     "output_type": "execute_result"
    }
   ],
   "source": [
    "result"
   ]
  },
  {
   "cell_type": "code",
   "execution_count": 15,
   "id": "38c94a94",
   "metadata": {},
   "outputs": [
    {
     "data": {
      "image/png": "[encoded data removed]",
      "text/plain": [
       "<Figure size 640x480 with 1 Axes>"
      ]
     },
     "metadata": {},
     "output_type": "display_data"
    }
   ],
   "source": [
    "import numpy as np\n",
    "import dask.array as da\n",
    "from memory_profiler import memory_usage\n",
    "import matplotlib.pyplot as plt\n",
    "\n",
    "def sum_with_numpy():\n",
    "    # Serial implementation\n",
    "    np.arange(1e9).sum()\n",
    "\n",
    "def sum_with_dask():\n",
    "    # Parallel implementation\n",
    "    work = da.arange(1e9).sum()\n",
    "    work.compute()\n",
    "\n",
    "memory_numpy = memory_usage(sum_with_numpy, interval=0.01)\n",
    "memory_dask = memory_usage(sum_with_dask, interval=0.01)\n",
    "\n",
    "# Plot results\n",
    "plt.plot(memory_numpy, label='numpy')\n",
    "plt.plot(memory_dask, label='dask')\n",
    "plt.xlabel('Time step')\n",
    "plt.ylabel('Memory / MB')\n",
    "plt.legend()\n",
    "plt.show()"
   ]
  },
  {
   "cell_type": "markdown",
   "id": "fa6282a2",
   "metadata": {},
   "source": [
    "## What does numpy need all this memory for? (and why does dask need less?)\n",
    "\n",
    "--> \"Chunking\""
   ]
  },
  {
   "cell_type": "markdown",
   "id": "1aa702f7",
   "metadata": {},
   "source": [
    "## Let's compare runs for different numbers of workers/jobs:"
   ]
  },
  {
   "cell_type": "code",
   "execution_count": 22,
   "id": "10349ea4",
   "metadata": {},
   "outputs": [
    {
     "name": "stdout",
     "output_type": "stream",
     "text": [
      "226 ms ± 0 ns per loop (mean ± std. dev. of 1 run, 1 loop each)\n",
      "170 ms ± 0 ns per loop (mean ± std. dev. of 1 run, 10 loops each)\n",
      "140 ms ± 0 ns per loop (mean ± std. dev. of 1 run, 10 loops each)\n",
      "158 ms ± 0 ns per loop (mean ± std. dev. of 1 run, 10 loops each)\n",
      "155 ms ± 0 ns per loop (mean ± std. dev. of 1 run, 10 loops each)\n",
      "147 ms ± 0 ns per loop (mean ± std. dev. of 1 run, 10 loops each)\n",
      "122 ms ± 0 ns per loop (mean ± std. dev. of 1 run, 10 loops each)\n",
      "122 ms ± 0 ns per loop (mean ± std. dev. of 1 run, 10 loops each)\n"
     ]
    }
   ],
   "source": [
    "x = []\n",
    "for n in range(1, 9):\n",
    "    time_taken = %timeit -r 1 -o da.arange(1e8).sum().compute(num_workers=n)\n",
    "    x.append(time_taken.average)"
   ]
  },
  {
   "cell_type": "code",
   "execution_count": 23,
   "id": "d14ba499",
   "metadata": {},
   "outputs": [
    {
     "data": {
      "image/png": "[encoded data removed]",
      "text/plain": [
       "<Figure size 600x400 with 1 Axes>"
      ]
     },
     "metadata": {},
     "output_type": "display_data"
    }
   ],
   "source": [
    "fig, ax = plt.subplots(figsize=(6, 4))\n",
    "\n",
    "ax.scatter(np.arange(1, 9), x)\n",
    "ax.plot(np.arange(1, 9), x)\n",
    "plt.xlabel(\"number of workers\")\n",
    "plt.ylabel(\"time [ms]\")\n",
    "plt.grid(True)"
   ]
  }
 ],
 "metadata": {
  "kernelspec": {
   "display_name": "Python 3 (ipykernel)",
   "language": "python",
   "name": "python3"
  },
  "language_info": {
   "codemirror_mode": {
    "name": "ipython",
    "version": 3
   },
   "file_extension": ".py",
   "mimetype": "text/x-python",
   "name": "python",
   "nbconvert_exporter": "python",
   "pygments_lexer": "ipython3",
   "version": "3.10.13"
  }
 },
 "nbformat": 4,
 "nbformat_minor": 5
}
